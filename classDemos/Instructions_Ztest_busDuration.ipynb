{
  "nbformat": 4,
  "nbformat_minor": 0,
  "metadata": {
    "colab": {
      "provenance": [],
      "authorship_tag": "ABX9TyNS5nmLVsJblAjRAd8nhmve",
      "include_colab_link": true
    },
    "kernelspec": {
      "name": "python3",
      "display_name": "Python 3"
    },
    "language_info": {
      "name": "python"
    }
  },
  "cells": [
    {
      "cell_type": "markdown",
      "metadata": {
        "id": "view-in-github",
        "colab_type": "text"
      },
      "source": [
        "<a href=\"https://colab.research.google.com/github/fedhere/PUS2024/blob/main/classDemos/Instructions_Ztest_busDuration.ipynb\" target=\"_parent\"><img src=\"https://colab.research.google.com/assets/colab-badge.svg\" alt=\"Open In Colab\"/></a>"
      ]
    },
    {
      "cell_type": "markdown",
      "source": [
        "Trip duration for bus Septa32 is 34 min on average (+/- 2.4).\n",
        "We wonderful city planners think we have a better route that will save time.\n",
        "\n",
        "We ask you to our Department of Transportation data scientist to tell is if after we change the route has the trip duration has changed.\n",
        "\n",
        "We have measured the duration of the trips along the new route and collected the data here https://github.com/fedhere/FDSfE_FBianco/blob/main/data/triptimes.csv\n",
        "\n",
        "# What is your Null Hypothesis?\n",
        "\n"
      ],
      "metadata": {
        "id": "EgcJaoPojzdu"
      }
    }
  ]
}